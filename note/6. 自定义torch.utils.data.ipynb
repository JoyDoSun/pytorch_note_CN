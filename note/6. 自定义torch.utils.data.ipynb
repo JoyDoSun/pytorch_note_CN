{
 "cells": [
  {
   "cell_type": "markdown",
   "metadata": {},
   "source": [
    "# 6. 自定义数据读取方式\n",
    "- torch.utils.data.Dataset与Dataloader的理解\n",
    "- torchvision中的datasets\n",
    "- torchvision ImageFolder\n",
    "- torchvision transforms\n",
    "----------"
   ]
  },
  {
   "cell_type": "markdown",
   "metadata": {},
   "source": [
    "## 1. torch.utils.data.Dataset与torch.utils.data.DataLoader的理解\n",
    "1. pytorch提供了一个数据读取的方法，其由两个类构成：torch.utils.data.Dataset和DataLoader\n",
    "2. 我们要自定义自己数据读取的方法，就需要继承torch.utils.data.Dataset，并将其封装到DataLoader中\n",
    "3. torch.utils.data.Dataset表示该数据集，继承该类可以重载其中的方法，实现多种数据读取及数据预处理方式\n",
    "4. torch.utils.data.DataLoader 封装了Data对象，实现单（多）进程迭代器输出数据集"
   ]
  },
  {
   "cell_type": "markdown",
   "metadata": {},
   "source": [
    "### 1.1 torch.utils.data.Dataset\n",
    "1. 要自定义自己的Dataset类，至少要重载两个方法，\\__len\\__, \\__getitem\\__\n",
    "2. \\__len\\__返回的是数据集的大小\n",
    "3. \\__getitem\\__实现索引数据集中的某一个数据\n",
    "4. 除了这两个基本功能，还可以在\\__getitem\\__时对数据进行预处理，或者是直接在硬盘中读取数据，对于超大的数据集还可以使用lmdb来读取"
   ]
  },
  {
   "cell_type": "markdown",
   "metadata": {},
   "source": [
    "#### 下面将简单实现一个Tensor数据集"
   ]
  },
  {
   "cell_type": "code",
   "execution_count": 7,
   "metadata": {
    "collapsed": true
   },
   "outputs": [],
   "source": [
    "from torch.utils.data import DataLoader, Dataset\n",
    "import torch"
   ]
  },
  {
   "cell_type": "code",
   "execution_count": 8,
   "metadata": {
    "collapsed": false
   },
   "outputs": [],
   "source": [
    "class TensorDataset(Dataset):\n",
    "    # TensorDataset继承Dataset, 重载了__init__, __getitem__, __len__\n",
    "    # 实现将一组Tensor数据对封装成Tensor数据集\n",
    "    # 能够通过index得到数据集的数据，能够通过len，得到数据集大小\n",
    "    \n",
    "    def __init__(self, data_tensor, target_tensor):\n",
    "        self.data_tensor = data_tensor\n",
    "        self.target_tensor = target_tensor\n",
    "\n",
    "    def __getitem__(self, index):\n",
    "        return self.data_tensor[index], self.target_tensor[index]\n",
    "\n",
    "    def __len__(self):\n",
    "        return self.data_tensor.size(0)"
   ]
  },
  {
   "cell_type": "code",
   "execution_count": 9,
   "metadata": {
    "collapsed": false
   },
   "outputs": [
    {
     "name": "stdout",
     "output_type": "stream",
     "text": [
      "tensor_data[0]:  (\n",
      " 0.6804\n",
      "-1.2515\n",
      " 1.6084\n",
      "[torch.FloatTensor of size 3]\n",
      ", 0.2058754563331604)\n",
      "len os tensor_dataset:  4\n"
     ]
    }
   ],
   "source": [
    "# 生成数据\n",
    "data_tensor = torch.randn(4, 3)\n",
    "target_tensor = torch.rand(4)\n",
    "\n",
    "# 将数据封装成Dataset\n",
    "tensor_dataset = TensorDataset(data_tensor, target_tensor)\n",
    "\n",
    "# 可使用索引调用数据\n",
    "print 'tensor_data[0]: ', tensor_dataset[0]\n",
    "\n",
    "# 可返回数据len\n",
    "print 'len os tensor_dataset: ', len(tensor_dataset)"
   ]
  },
  {
   "cell_type": "markdown",
   "metadata": {},
   "source": [
    "### 1.2 torch.utils.data.Dataloader\n",
    "1. Dataloader将Dataset或其子类封装成一个迭代器\n",
    "2. 这个迭代器可以迭代输出Dataset的内容\n",
    "3. 同时可以实现多进程、shuffle、不同采样策略，数据校对等等处理过程"
   ]
  },
  {
   "cell_type": "markdown",
   "metadata": {},
   "source": [
    "#### 对上述的TensorDataset封装成Dataloader"
   ]
  },
  {
   "cell_type": "code",
   "execution_count": 14,
   "metadata": {
    "collapsed": false
   },
   "outputs": [
    {
     "name": "stdout",
     "output_type": "stream",
     "text": [
      "one batch tensor data:  [\n",
      " 0.6804 -1.2515  1.6084\n",
      "-0.1156 -1.1552  0.1866\n",
      "[torch.FloatTensor of size 2x3]\n",
      ", \n",
      " 0.2059\n",
      " 0.6452\n",
      "[torch.DoubleTensor of size 2]\n",
      "]\n",
      "len of batchtensor:  2\n"
     ]
    }
   ],
   "source": [
    "tensor_dataloader = DataLoader(tensor_dataset,   # 封装的对象\n",
    "                               batch_size=2,     # 输出的batchsize\n",
    "                               shuffle=True,     # 随机输出\n",
    "                               num_workers=0)    # 只有1个进程\n",
    "# 输出一个batch\n",
    "print 'one batch tensor data: ', iter(tensor_dataloader).next()\n",
    "# 输出batch数量\n",
    "print 'len of batchtensor: ', len(list(iter(tensor_dataloader)))"
   ]
  },
  {
   "cell_type": "markdown",
   "metadata": {},
   "source": [
    "## 2.torchvision.datasets\n",
    "1. pytorch专门针对视觉实现了一个torchvision包，里面包括了许多常用的CNN模型以及一些数据集\n",
    "2. torchvision.datasets包含了MNIST，cifar10等数据集，他们都是通过继承上述Dataset类实现的"
   ]
  },
  {
   "cell_type": "markdown",
   "metadata": {},
   "source": [
    "### 2.1 torchvision自带的数据集\n",
    "#### 下面我见简单调用一下cifar数据集"
   ]
  },
  {
   "cell_type": "code",
   "execution_count": 34,
   "metadata": {
    "collapsed": true
   },
   "outputs": [],
   "source": [
    "import torchvision.datasets as dset\n",
    "import torchvision\n",
    "import matplotlib.pyplot as plt\n",
    "import torchvision.transforms as transforms\n",
    "import numpy as np\n",
    "%matplotlib inline\n",
    "\n",
    "def imshow(img, is_unnormlize=False):\n",
    "    if is_unnormlize:\n",
    "        img = img / 2 + 0.5     # unnormalize\n",
    "    npimg = img.numpy()\n",
    "    plt.imshow(np.transpose(npimg, (1, 2, 0)))"
   ]
  },
  {
   "cell_type": "code",
   "execution_count": 35,
   "metadata": {
    "collapsed": false
   },
   "outputs": [
    {
     "name": "stdout",
     "output_type": "stream",
     "text": [
      "Files already downloaded and verified\n"
     ]
    },
    {
     "data": {
      "image/png": "[encoded data removed]",
      "text/plain": [
       "<matplotlib.figure.Figure at 0x7f5e508d4d10>"
      ]
     },
     "metadata": {},
     "output_type": "display_data"
    }
   ],
   "source": [
    "# 载入cifar数据集\n",
    "trainset = dset.CIFAR10(root='../data',                  # 数据集路径\n",
    "                        train=True,                      # 载入train set\n",
    "                        download=True,                   # 如果未下载数据集，则自动下载。\n",
    "                                                         # 建议直接下载后压缩到root的路径\n",
    "                        transform=transforms.ToTensor()  # 转换成Tensor才能被封装为DataLoader\n",
    "                        )\n",
    "\n",
    "# 封装成loader\n",
    "trainloader = DataLoader(trainset, batch_size=4,\n",
    "                         shuffle=True, num_workers=2)\n",
    "\n",
    "# 显示图片\n",
    "dataiter = iter(trainloader)\n",
    "images, labels = dataiter.next()\n",
    "\n",
    "imshow(torchvision.utils.make_grid(images))"
   ]
  },
  {
   "cell_type": "markdown",
   "metadata": {},
   "source": [
    "### 2.2 直接从硬盘中载入自己的图像\n",
    "torch.datasets包中的ImageFolder支持我们直接从硬盘中按照固定路径格式载入每张数据，其格式如下：\n",
    "* 根目录/类别/图像\n",
    "\n",
    "```\n",
    "root/dog/xxx.png\n",
    "root/dog/xxy.png\n",
    "root/dog/xxz.png\n",
    "\n",
    "root/cat/123.png\n",
    "root/cat/nsdf3.png\n",
    "root/cat/asd932_.png\n",
    "```\n",
    "* 我们以ants bees数据集为例："
   ]
  },
  {
   "cell_type": "code",
   "execution_count": 39,
   "metadata": {
    "collapsed": false
   },
   "outputs": [
    {
     "name": "stdout",
     "output_type": "stream",
     "text": [
      "['ants', 'bees']\n"
     ]
    }
   ],
   "source": [
    "antbee_dataset = dset.ImageFolder(root='../../hymenoptera_data/train/',\n",
    "                                  transform=transforms.ToTensor())\n",
    "\n",
    "# 输出类别名\n",
    "print antbee_dataset.classes"
   ]
  },
  {
   "cell_type": "markdown",
   "metadata": {},
   "source": [
    "## 3. torchvision.transforms\n",
    "1. 在刚才，我们见到生成cifar数据集时有一个参数transform，这个参数就是实现各种预处理\n",
    "2. 在torchvision.transforms中，有多种预测方式，如scale，centercrop\n",
    "3. 我们可以使用Compose将这些预处理方式组成transforms list，对图像进行多种处理\n",
    "4. 需要注意，由于这些transform是基于PIL的，因此Compose中，Scale等预处理需要先调用，ToTensor需要后与他们\n",
    "5. 如果觉得torchvision自带的预处理不够多，可以使用https://github.com/ncullen93/torchsample 中的transforms"
   ]
  },
  {
   "cell_type": "code",
   "execution_count": 53,
   "metadata": {
    "collapsed": false
   },
   "outputs": [
    {
     "name": "stdout",
     "output_type": "stream",
     "text": [
      "Files already downloaded and verified\n"
     ]
    },
    {
     "data": {
      "image/png": "[encoded data removed]",
      "text/plain": [
       "<matplotlib.figure.Figure at 0x7f5e50990090>"
      ]
     },
     "metadata": {},
     "output_type": "display_data"
    }
   ],
   "source": [
    "# 定义transform\n",
    "transform = torchvision.transforms.Compose(\n",
    "    [transforms.RandomCrop(20),\n",
    "     transforms.ToTensor(),                       # ToTensor需要在预处理之后进行\n",
    "     transforms.Normalize((0.5, 0.5, 0.5), (0.5, 0.5, 0.5))] )\n",
    "\n",
    "# 载入cifar数据集\n",
    "trainset = dset.CIFAR10(root='../data',                  # 数据集路径\n",
    "                        train=True,                      # 载入train set\n",
    "                        download=True,                   # 如果未下载数据集，则自动下载。\n",
    "                                                         # 建议直接下载后压缩到root的路径\n",
    "                        transform=transform              # 进行预处理\n",
    "                        )\n",
    "\n",
    "# 封装成loader\n",
    "trainloader = DataLoader(trainset, batch_size=4,\n",
    "                         shuffle=True, num_workers=2)\n",
    "\n",
    "# 显示图片\n",
    "dataiter = iter(trainloader)\n",
    "images, labels = dataiter.next()\n",
    "\n",
    "imshow(torchvision.utils.make_grid(images), True)"
   ]
  },
  {
   "cell_type": "code",
   "execution_count": null,
   "metadata": {
    "collapsed": true
   },
   "outputs": [],
   "source": []
  }
 ],
 "metadata": {
  "kernelspec": {
   "display_name": "Python 3",
   "language": "python",
   "name": "python3"
  },
  "language_info": {
   "codemirror_mode": {
    "name": "ipython",
    "version": 3
   },
   "file_extension": ".py",
   "mimetype": "text/x-python",
   "name": "python",
   "nbconvert_exporter": "python",
   "pygments_lexer": "ipython3",
   "version": "3.6.0"
  }
 },
 "nbformat": 4,
 "nbformat_minor": 2
}
